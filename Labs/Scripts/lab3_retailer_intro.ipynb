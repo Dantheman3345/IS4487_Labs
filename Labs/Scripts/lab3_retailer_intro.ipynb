{
  "cells": [
    {
      "cell_type": "markdown",
      "metadata": {
        "id": "Aod9e4d2alQF"
      },
      "source": [
        "# IS 4487 Lab 3\n",
        "\n",
        "## Outline\n",
        "\n",
        "Repeat exercises from Lab 2, but with the *SuperStore Retail Orders* dataset\n",
        "- Loading installed packages\n",
        "- Inspect data\n",
        "- Explore plot types\n",
        "\n",
        "<a href=\"https://colab.research.google.com/github/Stan-Pugsley/is_4487_base/blob/main/Labs/Scripts/lab3_retailer_intro.ipynb\" target=\"_parent\"><img src=\"https://colab.research.google.com/assets/colab-badge.svg\" alt=\"Open In Colab\"/></a>"
      ]
    },
    {
      "cell_type": "markdown",
      "metadata": {
        "id": "M9jERqgYalQR"
      },
      "source": [
        "## Load Libraries\n",
        "\n",
        "➡️ Assignment Tasks\n",
        "- Load any necessary libraries"
      ]
    },
    {
      "cell_type": "code",
      "execution_count": 1,
      "metadata": {
        "vscode": {
          "languageId": "plaintext"
        },
        "id": "Brd0skr0alQU"
      },
      "outputs": [],
      "source": [
        "import pandas as pd\n",
        "import matplotlib as mpl\n",
        "import sklearn as sl"
      ]
    },
    {
      "cell_type": "markdown",
      "metadata": {
        "id": "7OMTwKsealQW"
      },
      "source": [
        "## Import Data into Dataframe\n",
        "\n",
        "➡️ Assignment Tasks\n",
        "- Import data from the SuperStore retail dataset into a dataframe (in GitHub go to Labs > DataSets)\n",
        "- Describe or profile the dataframe"
      ]
    },
    {
      "cell_type": "code",
      "execution_count": 23,
      "metadata": {
        "vscode": {
          "languageId": "plaintext"
        },
        "id": "WpFHMOXcalQX",
        "outputId": "732d62e7-3d1c-435c-cd86-1085b1e813a0",
        "colab": {
          "base_uri": "https://localhost:8080/"
        }
      },
      "outputs": [
        {
          "output_type": "stream",
          "name": "stdout",
          "text": [
            "Mounted at /content/gdrive\n",
            "      customer_id      customer_name          address_line_1          city  \\\n",
            "0              67      Gordy Matteau     59 Northland Circle    Wilmington   \n",
            "1             201     Cort Paskerful         769 Buell Drive    Huntsville   \n",
            "2              45    Willetta Lumley       41 Ridgeway Alley        Irvine   \n",
            "3             106   Alison Batterton           489 Erie Hill      Richmond   \n",
            "4             357  Martelle Paxeford    451 Manitowish Place      Richmond   \n",
            "...           ...                ...                     ...           ...   \n",
            "9564          637  Jayson Andriessen  0819 Crownhardt Circle     Allentown   \n",
            "9565          370    Darby Tesseyman     7468 Jackson Circle        Albany   \n",
            "9566          598   Henka De Ferrari      89 Sunnyside Drive  Redwood City   \n",
            "9567          737    Tommie Penvarne    9630 Washington Hill     Watertown   \n",
            "9568          482       Matelda Bull      6406 Bultman Alley  Gaithersburg   \n",
            "\n",
            "      state_province  postal_code  order_id  order_date  customer_id.1  \\\n",
            "0                DE       19805.0      1001  2020-01-11             67   \n",
            "1                AL       35810.0      1002  2019-11-22            201   \n",
            "2                CA       92612.0      1003  2019-09-17             45   \n",
            "3                VA       23293.0      1004  2019-12-09            106   \n",
            "4                VA       23293.0      1005  2019-06-08            357   \n",
            "...              ...          ...       ...         ...            ...   \n",
            "9564  Pennsylvania            NaN      8143  2021-06-13            637   \n",
            "9565             NY       12210.0      8144  2021-06-16            370   \n",
            "9566     California       94064.0      8145  2021-05-09            598   \n",
            "9567  Massachusetts        2472.0      8146  2021-04-13            737   \n",
            "9568       Maryland       20883.0      8147  2021-03-21            482   \n",
            "\n",
            "      order_id.1  product_id  quantity  product_id.1            product_name  \\\n",
            "0           1001         106       3.0           106       Great value Juice   \n",
            "1           1002         104       2.0           104                    Desk   \n",
            "2           1003         107       5.0           107          Dove deodorant   \n",
            "3           1004         106       8.0           106       Great value Juice   \n",
            "4           1005         107       7.0           107          Dove deodorant   \n",
            "...          ...         ...       ...           ...                     ...   \n",
            "9564        8143         113      16.0           113          Extension cord   \n",
            "9565        8144         109       1.0           109  Samsung Galaxy Note 10   \n",
            "9566        8145         110       1.0           110         Apple iPad Mini   \n",
            "9567        8146         113       2.0           113          Extension cord   \n",
            "9568        8147         113       5.0           113          Extension cord   \n",
            "\n",
            "     product_price total_amount order_year_month order_month  \n",
            "0            $1.99        $5.97          2020-01    January   \n",
            "1           $85.98      $171.96          2019-11   November   \n",
            "2            $3.99       $19.95          2019-09   September  \n",
            "3            $1.99       $15.92          2019-12   December   \n",
            "4            $3.99       $27.93          2019-06       June   \n",
            "...            ...          ...              ...         ...  \n",
            "9564        $15.59      $249.44          2021-06       June   \n",
            "9565       $749.99      $749.99          2021-06       June   \n",
            "9566       $329.99      $329.99          2021-05        May   \n",
            "9567        $15.59       $31.18          2021-04      April   \n",
            "9568        $15.59       $77.95          2021-03      March   \n",
            "\n",
            "[9569 rows x 18 columns]\n"
          ]
        }
      ],
      "source": [
        "from google.colab import drive\n",
        "drive.mount('/content/gdrive', force_remount=True)\n",
        "\n",
        "df = pd.read_csv (r'/content/gdrive/MyDrive/Colab Notebooks/superstore_retail_orders.csv')\n",
        "\n",
        "print (df)"
      ]
    },
    {
      "cell_type": "markdown",
      "metadata": {
        "id": "KMaQkBHdalQY"
      },
      "source": [
        "## Prepare Data\n",
        "\n",
        "➡️ Assignment Tasks\n",
        "- Convert the Total_Amount into a number (not a string)\n",
        "- Remove rows with empty (NULL) values\n",
        "- Optional: Locate outliers in any of the variables.   Filter them out if they are mistakes; keep them if they are exceptional cases."
      ]
    },
    {
      "cell_type": "code",
      "execution_count": 26,
      "metadata": {
        "vscode": {
          "languageId": "plaintext"
        },
        "id": "5RiBoST9alQZ",
        "outputId": "d28ca1fd-c9e4-41e4-c1d3-db2c5dce8388",
        "colab": {
          "base_uri": "https://localhost:8080/"
        }
      },
      "outputs": [
        {
          "output_type": "stream",
          "name": "stdout",
          "text": [
            "9569\n"
          ]
        }
      ],
      "source": [
        "df['total_amount'] = pd.to_numeric(df['total_amount'], errors='coerce')\n",
        "print(df['total_amount'].isna().sum())\n"
      ]
    },
    {
      "cell_type": "code",
      "source": [
        "df.head"
      ],
      "metadata": {
        "id": "PHhOFHf5hsFl",
        "outputId": "7c961c75-b208-4ebb-9943-6e4d4f9d3f6d",
        "colab": {
          "base_uri": "https://localhost:8080/"
        }
      },
      "execution_count": 27,
      "outputs": [
        {
          "output_type": "execute_result",
          "data": {
            "text/plain": [
              "<bound method NDFrame.head of       customer_id      customer_name          address_line_1          city  \\\n",
              "0              67      Gordy Matteau     59 Northland Circle    Wilmington   \n",
              "1             201     Cort Paskerful         769 Buell Drive    Huntsville   \n",
              "2              45    Willetta Lumley       41 Ridgeway Alley        Irvine   \n",
              "3             106   Alison Batterton           489 Erie Hill      Richmond   \n",
              "4             357  Martelle Paxeford    451 Manitowish Place      Richmond   \n",
              "...           ...                ...                     ...           ...   \n",
              "9564          637  Jayson Andriessen  0819 Crownhardt Circle     Allentown   \n",
              "9565          370    Darby Tesseyman     7468 Jackson Circle        Albany   \n",
              "9566          598   Henka De Ferrari      89 Sunnyside Drive  Redwood City   \n",
              "9567          737    Tommie Penvarne    9630 Washington Hill     Watertown   \n",
              "9568          482       Matelda Bull      6406 Bultman Alley  Gaithersburg   \n",
              "\n",
              "      state_province  postal_code  order_id  order_date  customer_id.1  \\\n",
              "0                DE       19805.0      1001  2020-01-11             67   \n",
              "1                AL       35810.0      1002  2019-11-22            201   \n",
              "2                CA       92612.0      1003  2019-09-17             45   \n",
              "3                VA       23293.0      1004  2019-12-09            106   \n",
              "4                VA       23293.0      1005  2019-06-08            357   \n",
              "...              ...          ...       ...         ...            ...   \n",
              "9564  Pennsylvania            NaN      8143  2021-06-13            637   \n",
              "9565             NY       12210.0      8144  2021-06-16            370   \n",
              "9566     California       94064.0      8145  2021-05-09            598   \n",
              "9567  Massachusetts        2472.0      8146  2021-04-13            737   \n",
              "9568       Maryland       20883.0      8147  2021-03-21            482   \n",
              "\n",
              "      order_id.1  product_id  quantity  product_id.1            product_name  \\\n",
              "0           1001         106       3.0           106       Great value Juice   \n",
              "1           1002         104       2.0           104                    Desk   \n",
              "2           1003         107       5.0           107          Dove deodorant   \n",
              "3           1004         106       8.0           106       Great value Juice   \n",
              "4           1005         107       7.0           107          Dove deodorant   \n",
              "...          ...         ...       ...           ...                     ...   \n",
              "9564        8143         113      16.0           113          Extension cord   \n",
              "9565        8144         109       1.0           109  Samsung Galaxy Note 10   \n",
              "9566        8145         110       1.0           110         Apple iPad Mini   \n",
              "9567        8146         113       2.0           113          Extension cord   \n",
              "9568        8147         113       5.0           113          Extension cord   \n",
              "\n",
              "     product_price  total_amount order_year_month order_month  \n",
              "0            $1.99           NaN          2020-01    January   \n",
              "1           $85.98           NaN          2019-11   November   \n",
              "2            $3.99           NaN          2019-09   September  \n",
              "3            $1.99           NaN          2019-12   December   \n",
              "4            $3.99           NaN          2019-06       June   \n",
              "...            ...           ...              ...         ...  \n",
              "9564        $15.59           NaN          2021-06       June   \n",
              "9565       $749.99           NaN          2021-06       June   \n",
              "9566       $329.99           NaN          2021-05        May   \n",
              "9567        $15.59           NaN          2021-04      April   \n",
              "9568        $15.59           NaN          2021-03      March   \n",
              "\n",
              "[9569 rows x 18 columns]>"
            ]
          },
          "metadata": {},
          "execution_count": 27
        }
      ]
    },
    {
      "cell_type": "code",
      "source": [
        "df.dropna(inplace=True)"
      ],
      "metadata": {
        "id": "HZxd7_vvdAkL"
      },
      "execution_count": 28,
      "outputs": []
    },
    {
      "cell_type": "code",
      "source": [
        "print(df.columns)"
      ],
      "metadata": {
        "id": "ZahdVxeqeLBl",
        "outputId": "94374151-5ff8-4d39-8f23-940036a9a6a0",
        "colab": {
          "base_uri": "https://localhost:8080/"
        }
      },
      "execution_count": 29,
      "outputs": [
        {
          "output_type": "stream",
          "name": "stdout",
          "text": [
            "Index(['customer_id', 'customer_name', 'address_line_1', 'city',\n",
            "       'state_province', 'postal_code', 'order_id', 'order_date',\n",
            "       'customer_id.1', 'order_id.1', 'product_id', 'quantity', 'product_id.1',\n",
            "       'product_name', 'product_price', 'total_amount', 'order_year_month',\n",
            "       'order_month'],\n",
            "      dtype='object')\n"
          ]
        }
      ]
    },
    {
      "cell_type": "code",
      "source": [
        "print(df.head())"
      ],
      "metadata": {
        "id": "OxESpVmFhJAv",
        "outputId": "7aa5a40c-3191-4e6d-8a09-2990953ac7c3",
        "colab": {
          "base_uri": "https://localhost:8080/"
        }
      },
      "execution_count": 30,
      "outputs": [
        {
          "output_type": "stream",
          "name": "stdout",
          "text": [
            "Empty DataFrame\n",
            "Columns: [customer_id, customer_name, address_line_1, city, state_province, postal_code, order_id, order_date, customer_id.1, order_id.1, product_id, quantity, product_id.1, product_name, product_price, total_amount, order_year_month, order_month]\n",
            "Index: []\n"
          ]
        }
      ]
    },
    {
      "cell_type": "markdown",
      "metadata": {
        "id": "zlvDUBJAalQa"
      },
      "source": [
        "## Summarize Data\n",
        "\n",
        "➡️ Assignment Tasks\n",
        "- Display the average price per month\n",
        "- Display the total revenue for all months"
      ]
    },
    {
      "cell_type": "code",
      "execution_count": 15,
      "metadata": {
        "vscode": {
          "languageId": "plaintext"
        },
        "id": "LG7uhS31alQc",
        "outputId": "5794e409-487d-4757-a679-74eaaa2eb2cc",
        "colab": {
          "base_uri": "https://localhost:8080/"
        }
      },
      "outputs": [
        {
          "output_type": "stream",
          "name": "stdout",
          "text": [
            "order_month\n",
            "April        0.0\n",
            "August       0.0\n",
            "December     0.0\n",
            "February     0.0\n",
            "January      0.0\n",
            "July         0.0\n",
            "June         0.0\n",
            "March        0.0\n",
            "May          0.0\n",
            "November     0.0\n",
            "October      0.0\n",
            "September    0.0\n",
            "Name: total_amount, dtype: float64\n"
          ]
        }
      ],
      "source": [
        "#average price\n",
        "grouped = df.groupby('order_month')\n",
        "average_price_per_month = grouped['total_amount'].mean()\n",
        "total_revenue_per_month = grouped['total_amount'].sum()\n",
        "print(total_revenue_per_month)\n"
      ]
    },
    {
      "cell_type": "code",
      "execution_count": null,
      "metadata": {
        "vscode": {
          "languageId": "plaintext"
        },
        "id": "9YU3vPFJalQg"
      },
      "outputs": [],
      "source": [
        "#total revenue"
      ]
    }
  ],
  "metadata": {
    "language_info": {
      "name": "python"
    },
    "colab": {
      "provenance": []
    },
    "kernelspec": {
      "name": "python3",
      "display_name": "Python 3"
    }
  },
  "nbformat": 4,
  "nbformat_minor": 0
}