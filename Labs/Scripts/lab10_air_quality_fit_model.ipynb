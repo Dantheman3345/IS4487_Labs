{
  "cells": [
    {
      "cell_type": "markdown",
      "metadata": {
        "id": "qQXnHF95wzgX"
      },
      "source": [
        "# IS 4487 Lab 10\n",
        "\n",
        "## Outline\n",
        "\n",
        "Repeat exercises from Lab 9, but with the *Air Quality Daily AQI* dataset.\n",
        "\n",
        "Pull the latest \"Daily AQI by County\" file from this link: https://aqs.epa.gov/aqsweb/airdata/download_files.html#AQI\n",
        "\n",
        "Your target variable is *CATEGORY*, indicating if the air is healthy.  You can focus on either the entire country, split the country in regions, or focus on just one area (ex. Utah).   You can reduce noise by aggregating the data to the month of season level.   \n",
        "\n",
        "Can you predict the category based on the location and time of year?  \n",
        "\n",
        "The AQI is divided into six categories:\n",
        "\n",
        "*Air Quality Index*\n",
        "\n",
        "|(AQI) Values\t|Levels of Health Concern\t        |\n",
        "|---------------|--------|\n",
        "|0-50\t        |Good\t |\n",
        "|51-100\t        |Moderate\t |\n",
        "|101-150\t    |Unhealthy for Sensitive Groups\t|\n",
        "|151 to 200\t    |Unhealthy\t |\n",
        "|201 to 300\t    |Very Unhealthy\t |\n",
        "|301 to 500\t    |Hazardous\t |\n",
        "\n",
        "<a href=\"https://colab.research.google.com/github/Stan-Pugsley/is_4487_base/blob/main/Labs/Scripts/lab10_air_quality_fit_model.ipynb\" target=\"_parent\"><img src=\"https://colab.research.google.com/assets/colab-badge.svg\" alt=\"Open In Colab\"/></a>"
      ]
    },
    {
      "cell_type": "markdown",
      "metadata": {
        "id": "hWuny02vwzgX"
      },
      "source": [
        "## Load Libraries\n",
        "\n",
        "➡️ Assignment Tasks\n",
        "- Load any necessary libraries"
      ]
    },
    {
      "cell_type": "code",
      "execution_count": 8,
      "metadata": {
        "vscode": {
          "languageId": "plaintext"
        },
        "id": "ZJPOO3q6wzgY"
      },
      "outputs": [],
      "source": [
        "import pandas as pd\n",
        "import matplotlib as mpl\n",
        "import numpy as np\n",
        "from sklearn.model_selection import train_test_split\n",
        "from sklearn.linear_model import LinearRegression\n",
        "import matplotlib.pyplot as plt\n",
        "from sklearn.metrics import mean_squared_error, r2_score"
      ]
    },
    {
      "cell_type": "markdown",
      "metadata": {
        "id": "BAkPkTzcwzgY"
      },
      "source": [
        "## Import Data into Dataframe\n",
        "\n",
        "➡️ Assignment Tasks\n",
        "- Import data from the air quality dataset into a dataframe (in GitHub go to Labs > DataSets)\n",
        "- Describe or profile the dataframe"
      ]
    },
    {
      "cell_type": "code",
      "execution_count": 5,
      "metadata": {
        "vscode": {
          "languageId": "plaintext"
        },
        "id": "1Egf_JjAwzgY",
        "outputId": "bdcb80a9-b4a3-40fa-b62f-307ff3407e6d",
        "colab": {
          "base_uri": "https://localhost:8080/"
        }
      },
      "outputs": [
        {
          "output_type": "stream",
          "name": "stdout",
          "text": [
            "Mounted at /content/gdrive\n"
          ]
        }
      ],
      "source": [
        "from google.colab import drive\n",
        "drive.mount('/content/gdrive', force_remount=True)\n",
        "\n",
        "df = pd.read_csv (r'/content/gdrive/MyDrive/Colab Notebooks/daily_aqi_by_county_2023.csv')"
      ]
    },
    {
      "cell_type": "markdown",
      "metadata": {
        "id": "KrPwpbp1wzgY"
      },
      "source": [
        "## Prepare Data\n",
        "\n",
        "➡️ Assignment Tasks\n",
        "- Create one dummy variable (true/false) for each of the Defining Parameter values    \n",
        "- Create variables for month and season\n",
        "- Perform any other data cleanup needed (remove outliers, nulls, etc.)\n",
        "- Select the data you would like to use in the model.  If you aggregate data, you will have to decide whether to use the min, max or mean value for AQI"
      ]
    },
    {
      "cell_type": "code",
      "execution_count": 6,
      "metadata": {
        "vscode": {
          "languageId": "plaintext"
        },
        "id": "aWbrfe9kwzgY",
        "outputId": "23ac03d4-c76c-40bd-9124-ecb2b53a5e99",
        "colab": {
          "base_uri": "https://localhost:8080/"
        }
      },
      "outputs": [
        {
          "output_type": "stream",
          "name": "stderr",
          "text": [
            "<ipython-input-6-57178811603c>:27: SettingWithCopyWarning: \n",
            "A value is trying to be set on a copy of a slice from a DataFrame\n",
            "\n",
            "See the caveats in the documentation: https://pandas.pydata.org/pandas-docs/stable/user_guide/indexing.html#returning-a-view-versus-a-copy\n",
            "  df.dropna(inplace=True)\n"
          ]
        }
      ],
      "source": [
        "#create columns\n",
        "# Convert 'Date' column to datetime format\n",
        "df['Date'] = pd.to_datetime(df['Date'])\n",
        "\n",
        "# Create month and season variables\n",
        "df['Month'] = df['Date'].dt.month\n",
        "df['Season'] = df['Month'].apply(lambda x: (x%12 + 3)//3)\n",
        "\n",
        "# Map months to seasons: 1 = Winter, 2 = Spring, 3 = Summer, 4 = Fall\n",
        "seasons = {1: 'Winter', 2: 'Spring', 3: 'Summer', 4: 'Fall'}\n",
        "df['Season'] = df['Season'].map(seasons)\n",
        "\n",
        "# Create dummy variables for AQI categories\n",
        "df['Good'] = df['AQI'].apply(lambda x: x <= 50)\n",
        "df['Moderate'] = df['AQI'].apply(lambda x: 51 <= x <= 100)\n",
        "df['Unhealthy for Sensitive Groups'] = df['AQI'].apply(lambda x: 101 <= x <= 150)\n",
        "df['Unhealthy'] = df['AQI'].apply(lambda x: 151 <= x <= 200)\n",
        "df['Very Unhealthy'] = df['AQI'].apply(lambda x: 201 <= x <= 300)\n",
        "df['Hazardous'] = df['AQI'].apply(lambda x: 301 <= x <= 500)\n",
        "\n",
        "# Data cleanup\n",
        "# Removing outliers - this is a simple way, consider a more sophisticated method for real applications\n",
        "low, high = df['AQI'].quantile([0.01, 0.99])\n",
        "df = df[(df['AQI'] > low) & (df['AQI'] < high)]\n",
        "\n",
        "# Remove nulls\n",
        "df.dropna(inplace=True)"
      ]
    },
    {
      "cell_type": "code",
      "execution_count": 7,
      "metadata": {
        "vscode": {
          "languageId": "plaintext"
        },
        "id": "3kqJ38VIwzgZ",
        "outputId": "6fea5f46-15c9-421e-ab8c-4605f8139db6",
        "colab": {
          "base_uri": "https://localhost:8080/"
        }
      },
      "outputs": [
        {
          "output_type": "stream",
          "name": "stdout",
          "text": [
            "   Month  Season        AQI      Good  Moderate  \\\n",
            "0      1  Winter  34.750170  0.858662  0.139253   \n",
            "1      2  Winter  36.277519  0.859263  0.138411   \n",
            "2      3  Spring  39.878535  0.864673  0.134551   \n",
            "3      4  Spring  43.499124  0.777372  0.216253   \n",
            "4      5  Spring  46.560071  0.693301  0.288995   \n",
            "\n",
            "   Unhealthy for Sensitive Groups  Unhealthy  Very Unhealthy  Hazardous  \n",
            "0                        0.002085        0.0             0.0        0.0  \n",
            "1                        0.002326        0.0             0.0        0.0  \n",
            "2                        0.000776        0.0             0.0        0.0  \n",
            "3                        0.006375        0.0             0.0        0.0  \n",
            "4                        0.017704        0.0             0.0        0.0  \n"
          ]
        }
      ],
      "source": [
        "#select final columns for use\n",
        "# Select data for the model - this is an example, adjust based on your needs\n",
        "model_data = df[['Month', 'Season', 'Good', 'Moderate', 'Unhealthy for Sensitive Groups', 'Unhealthy', 'Very Unhealthy', 'Hazardous', 'AQI']]\n",
        "\n",
        "# You might want to aggregate data here, depending on your model's requirements. For example, to use the mean AQI per month and season:\n",
        "model_data_agg = model_data.groupby(['Month', 'Season']).agg({'AQI': 'mean', 'Good': 'mean', 'Moderate': 'mean', 'Unhealthy for Sensitive Groups': 'mean', 'Unhealthy': 'mean', 'Very Unhealthy': 'mean', 'Hazardous': 'mean'}).reset_index()\n",
        "\n",
        "print(model_data_agg.head())"
      ]
    },
    {
      "cell_type": "markdown",
      "metadata": {
        "id": "a6t96I_XwzgZ"
      },
      "source": [
        "## Create Regression\n",
        "\n",
        "➡️ Assignment Tasks\n",
        "- Create a simple linear regression to predict AQI based on as many variables as you can use or derive.\n",
        "- Visualize the regression"
      ]
    },
    {
      "cell_type": "code",
      "execution_count": 9,
      "metadata": {
        "vscode": {
          "languageId": "plaintext"
        },
        "id": "2kzayrH9wzgZ"
      },
      "outputs": [],
      "source": [
        "#create regression\n",
        "# For the purpose of this example, let's use 'Month' and the dummy variables for AQI categories as predictors. Adjust according to your dataset.\n",
        "X = model_data_agg.drop(['AQI', 'Season'], axis=1)  # Dropping 'Season' as it's categorical and not dummy-encoded here\n",
        "y = model_data_agg['AQI']\n",
        "\n",
        "# Splitting the dataset into training and testing set\n",
        "X_train, X_test, y_train, y_test = train_test_split(X, y, test_size=0.2, random_state=42)\n",
        "\n",
        "# Creating a linear regression model\n",
        "model = LinearRegression()\n",
        "\n",
        "# Fitting the model\n",
        "model.fit(X_train, y_train)\n",
        "\n",
        "# Predicting the AQI for the test set\n",
        "y_pred = model.predict(X_test)"
      ]
    },
    {
      "cell_type": "code",
      "source": [
        "\n",
        "# Visualization\n",
        "plt.figure(figsize=(10, 6))  # Set the figure size for better readability\n",
        "plt.scatter(y_test, y_pred, alpha=0.5, label='Predicted vs Actual')  # Add alpha for transparency\n",
        "\n",
        "# Plotting the regression line\n",
        "line_start = y_test.min()\n",
        "line_end = y_test.max()\n",
        "plt.plot([line_start, line_end], [y_pred.min(), y_pred.max()], color='red', label='Regression Line')  # Regression line\n",
        "\n",
        "plt.xlabel('Actual AQI')\n",
        "plt.ylabel('Predicted AQI')\n",
        "plt.title('Actual vs Predicted AQI with Regression Line')\n",
        "plt.legend()  # Add a legend\n",
        "\n",
        "# Adding more information\n",
        "plt.text(line_start, y_pred.max(), f'R^2: {r2_score(y_test, y_pred):.2f}', fontsize=12, verticalalignment='bottom')\n",
        "plt.grid(True)  # Add grid for better readability\n",
        "# Model evaluation\n",
        "print('Coefficients:', model.coef_)\n",
        "print('Intercept:', model.intercept_)\n",
        "print('Mean squared error (MSE): %.2f' % mean_squared_error(y_test, y_pred))\n",
        "print('Coefficient of determination (R^2): %.2f' % r2_score(y_test, y_pred))\n",
        "\n",
        "plt.show()"
      ],
      "metadata": {
        "id": "ifJB80zf1BzN",
        "outputId": "29256b03-f4fd-4f02-f189-0196a9f6063a",
        "colab": {
          "base_uri": "https://localhost:8080/",
          "height": 651
        }
      },
      "execution_count": 12,
      "outputs": [
        {
          "output_type": "stream",
          "name": "stdout",
          "text": [
            "Coefficients: [  -1.12535906   56.20563663  190.39262917 -246.5982658     0.\n",
            "    0.            0.        ]\n",
            "Intercept: -35.385587985363735\n",
            "Mean squared error (MSE): 8.34\n",
            "Coefficient of determination (R^2): -2.05\n"
          ]
        },
        {
          "output_type": "display_data",
          "data": {
            "text/plain": [
              "<Figure size 1000x600 with 1 Axes>"
            ],
            "image/png": "[encoded data removed]"
          },
          "metadata": {}
        }
      ]
    },
    {
      "cell_type": "markdown",
      "metadata": {
        "id": "yfrlCOjnwzgZ"
      },
      "source": [
        "## Make a prediction\n",
        "\n",
        "➡️ Assignment Tasks\n",
        "- What would you predict the average AQI to be in the month of January?  "
      ]
    },
    {
      "cell_type": "markdown",
      "source": [
        "I expect that In January the AQI averages in around the 30's.\n"
      ],
      "metadata": {
        "id": "xR5VyPciy8er"
      }
    },
    {
      "cell_type": "markdown",
      "metadata": {
        "id": "B4t6K5ckwzgZ"
      },
      "source": [
        "## OPTIONAL: Compare Air Quality\n",
        "\n",
        "➡️ Assignment Tasks\n",
        "- Download the data from a year 20 years prior, using this website: https://aqs.epa.gov/aqsweb/airdata/download_files.html#AQI\n",
        "- Append the new data to the previous dataframe\n",
        "- Use the year as a variable in your regression.  Is year a significant factor in predicting AQI?"
      ]
    },
    {
      "cell_type": "code",
      "execution_count": null,
      "metadata": {
        "vscode": {
          "languageId": "plaintext"
        },
        "id": "VvK8PYKkwzgZ"
      },
      "outputs": [],
      "source": [
        "#import, append and create new model"
      ]
    }
  ],
  "metadata": {
    "language_info": {
      "name": "python"
    },
    "colab": {
      "provenance": []
    },
    "kernelspec": {
      "name": "python3",
      "display_name": "Python 3"
    }
  },
  "nbformat": 4,
  "nbformat_minor": 0
}