{
  "cells": [
    {
      "cell_type": "markdown",
      "metadata": {
        "id": "D5h3pRc2RYUO"
      },
      "source": [
        "# IS 4487 Lab 3\n",
        "\n",
        "## Outline\n",
        "\n",
        "Repeat exercises from Lab 2, but with the *SuperStore Retail Orders* dataset\n",
        "- Loading installed packages\n",
        "- Inspect data\n",
        "- Explore plot types\n",
        "\n",
        "<a href=\"https://colab.research.google.com/github/Stan-Pugsley/is_4487_base/blob/main/Labs/Scripts/lab3_retailer_intro.ipynb\" target=\"_parent\"><img src=\"https://colab.research.google.com/assets/colab-badge.svg\" alt=\"Open In Colab\"/></a>"
      ]
    },
    {
      "cell_type": "markdown",
      "metadata": {
        "id": "6wBcnCwtRYUa"
      },
      "source": [
        "## Load Libraries\n",
        "\n",
        "➡️ Assignment Tasks\n",
        "- Load any necessary libraries"
      ]
    },
    {
      "cell_type": "code",
      "execution_count": 13,
      "metadata": {
        "vscode": {
          "languageId": "plaintext"
        },
        "id": "jmi4A9AfRYUd"
      },
      "outputs": [],
      "source": [
        "import pandas as pd\n",
        "import matplotlib as mpl\n",
        "import sklearn as sl"
      ]
    },
    {
      "cell_type": "markdown",
      "metadata": {
        "id": "ftYqgDyvRYUe"
      },
      "source": [
        "## Import Data into Dataframe\n",
        "\n",
        "➡️ Assignment Tasks\n",
        "- Import data from the SuperStore retail dataset into a dataframe (in GitHub go to Labs > DataSets)\n",
        "- Describe or profile the dataframe"
      ]
    },
    {
      "cell_type": "code",
      "execution_count": 14,
      "metadata": {
        "vscode": {
          "languageId": "plaintext"
        },
        "colab": {
          "base_uri": "https://localhost:8080/"
        },
        "id": "-Be8wSPtRYUg",
        "outputId": "61ad87d2-e0bb-44b2-9530-d9ee4bd34099"
      },
      "outputs": [
        {
          "output_type": "stream",
          "name": "stdout",
          "text": [
            "Mounted at /content/gdrive\n",
            "      customer_id      customer_name          address_line_1          city  \\\n",
            "0              67      Gordy Matteau     59 Northland Circle    Wilmington   \n",
            "1             201     Cort Paskerful         769 Buell Drive    Huntsville   \n",
            "2              45    Willetta Lumley       41 Ridgeway Alley        Irvine   \n",
            "3             106   Alison Batterton           489 Erie Hill      Richmond   \n",
            "4             357  Martelle Paxeford    451 Manitowish Place      Richmond   \n",
            "...           ...                ...                     ...           ...   \n",
            "9564          637  Jayson Andriessen  0819 Crownhardt Circle     Allentown   \n",
            "9565          370    Darby Tesseyman     7468 Jackson Circle        Albany   \n",
            "9566          598   Henka De Ferrari      89 Sunnyside Drive  Redwood City   \n",
            "9567          737    Tommie Penvarne    9630 Washington Hill     Watertown   \n",
            "9568          482       Matelda Bull      6406 Bultman Alley  Gaithersburg   \n",
            "\n",
            "      state_province  postal_code  order_id  order_date  customer_id.1  \\\n",
            "0                DE       19805.0      1001  2020-01-11             67   \n",
            "1                AL       35810.0      1002  2019-11-22            201   \n",
            "2                CA       92612.0      1003  2019-09-17             45   \n",
            "3                VA       23293.0      1004  2019-12-09            106   \n",
            "4                VA       23293.0      1005  2019-06-08            357   \n",
            "...              ...          ...       ...         ...            ...   \n",
            "9564  Pennsylvania            NaN      8143  2021-06-13            637   \n",
            "9565             NY       12210.0      8144  2021-06-16            370   \n",
            "9566     California       94064.0      8145  2021-05-09            598   \n",
            "9567  Massachusetts        2472.0      8146  2021-04-13            737   \n",
            "9568       Maryland       20883.0      8147  2021-03-21            482   \n",
            "\n",
            "      order_id.1  product_id  quantity  product_id.1            product_name  \\\n",
            "0           1001         106       3.0           106       Great value Juice   \n",
            "1           1002         104       2.0           104                    Desk   \n",
            "2           1003         107       5.0           107          Dove deodorant   \n",
            "3           1004         106       8.0           106       Great value Juice   \n",
            "4           1005         107       7.0           107          Dove deodorant   \n",
            "...          ...         ...       ...           ...                     ...   \n",
            "9564        8143         113      16.0           113          Extension cord   \n",
            "9565        8144         109       1.0           109  Samsung Galaxy Note 10   \n",
            "9566        8145         110       1.0           110         Apple iPad Mini   \n",
            "9567        8146         113       2.0           113          Extension cord   \n",
            "9568        8147         113       5.0           113          Extension cord   \n",
            "\n",
            "     product_price total_amount order_year_month order_month  \n",
            "0            $1.99        $5.97          2020-01    January   \n",
            "1           $85.98      $171.96          2019-11   November   \n",
            "2            $3.99       $19.95          2019-09   September  \n",
            "3            $1.99       $15.92          2019-12   December   \n",
            "4            $3.99       $27.93          2019-06       June   \n",
            "...            ...          ...              ...         ...  \n",
            "9564        $15.59      $249.44          2021-06       June   \n",
            "9565       $749.99      $749.99          2021-06       June   \n",
            "9566       $329.99      $329.99          2021-05        May   \n",
            "9567        $15.59       $31.18          2021-04      April   \n",
            "9568        $15.59       $77.95          2021-03      March   \n",
            "\n",
            "[9569 rows x 18 columns]\n"
          ]
        }
      ],
      "source": [
        "\n",
        "from google.colab import drive\n",
        "drive.mount('/content/gdrive', force_remount=True)\n",
        "\n",
        "df = pd.read_csv (r'/content/gdrive/MyDrive/Colab Notebooks/superstore_retail_orders.csv')\n",
        "\n",
        "print (df)\n",
        ""
      ]
    },
    {
      "cell_type": "markdown",
      "metadata": {
        "id": "7vzLVK1JRYUh"
      },
      "source": [
        "## Prepare Data\n",
        "\n",
        "➡️ Assignment Tasks\n",
        "- Convert the Total_Amount into a number (not a string)\n",
        "- Remove rows with empty (NULL) values\n",
        "- Optional: Locate outliers in any of the variables.   Filter them out if they are mistakes; keep them if they are exceptional cases."
      ]
    },
    {
      "cell_type": "code",
      "execution_count": 17,
      "metadata": {
        "vscode": {
          "languageId": "plaintext"
        },
        "id": "LmushxxORYUi"
      },
      "outputs": [],
      "source": [
        "df['total_amount'] = df['total_amount'].replace({'\\$': '', ',': ''}, regex=True)\n",
        "df['total_amount'] = pd.to_numeric(df['total_amount'])\n"
      ]
    },
    {
      "cell_type": "code",
      "source": [
        "\n",
        "df.head"
      ],
      "metadata": {
        "colab": {
          "base_uri": "https://localhost:8080/"
        },
        "id": "msy6RYbiRe_5",
        "outputId": "559042e2-4610-4224-970d-108f4de10973"
      },
      "execution_count": 18,
      "outputs": [
        {
          "output_type": "execute_result",
          "data": {
            "text/plain": [
              "<bound method NDFrame.head of       customer_id      customer_name          address_line_1          city  \\\n",
              "0              67      Gordy Matteau     59 Northland Circle    Wilmington   \n",
              "1             201     Cort Paskerful         769 Buell Drive    Huntsville   \n",
              "2              45    Willetta Lumley       41 Ridgeway Alley        Irvine   \n",
              "3             106   Alison Batterton           489 Erie Hill      Richmond   \n",
              "4             357  Martelle Paxeford    451 Manitowish Place      Richmond   \n",
              "...           ...                ...                     ...           ...   \n",
              "9564          637  Jayson Andriessen  0819 Crownhardt Circle     Allentown   \n",
              "9565          370    Darby Tesseyman     7468 Jackson Circle        Albany   \n",
              "9566          598   Henka De Ferrari      89 Sunnyside Drive  Redwood City   \n",
              "9567          737    Tommie Penvarne    9630 Washington Hill     Watertown   \n",
              "9568          482       Matelda Bull      6406 Bultman Alley  Gaithersburg   \n",
              "\n",
              "      state_province  postal_code  order_id  order_date  customer_id.1  \\\n",
              "0                DE       19805.0      1001  2020-01-11             67   \n",
              "1                AL       35810.0      1002  2019-11-22            201   \n",
              "2                CA       92612.0      1003  2019-09-17             45   \n",
              "3                VA       23293.0      1004  2019-12-09            106   \n",
              "4                VA       23293.0      1005  2019-06-08            357   \n",
              "...              ...          ...       ...         ...            ...   \n",
              "9564  Pennsylvania            NaN      8143  2021-06-13            637   \n",
              "9565             NY       12210.0      8144  2021-06-16            370   \n",
              "9566     California       94064.0      8145  2021-05-09            598   \n",
              "9567  Massachusetts        2472.0      8146  2021-04-13            737   \n",
              "9568       Maryland       20883.0      8147  2021-03-21            482   \n",
              "\n",
              "      order_id.1  product_id  quantity  product_id.1            product_name  \\\n",
              "0           1001         106       3.0           106       Great value Juice   \n",
              "1           1002         104       2.0           104                    Desk   \n",
              "2           1003         107       5.0           107          Dove deodorant   \n",
              "3           1004         106       8.0           106       Great value Juice   \n",
              "4           1005         107       7.0           107          Dove deodorant   \n",
              "...          ...         ...       ...           ...                     ...   \n",
              "9564        8143         113      16.0           113          Extension cord   \n",
              "9565        8144         109       1.0           109  Samsung Galaxy Note 10   \n",
              "9566        8145         110       1.0           110         Apple iPad Mini   \n",
              "9567        8146         113       2.0           113          Extension cord   \n",
              "9568        8147         113       5.0           113          Extension cord   \n",
              "\n",
              "     product_price  total_amount order_year_month order_month  \n",
              "0            $1.99          5.97          2020-01    January   \n",
              "1           $85.98        171.96          2019-11   November   \n",
              "2            $3.99         19.95          2019-09   September  \n",
              "3            $1.99         15.92          2019-12   December   \n",
              "4            $3.99         27.93          2019-06       June   \n",
              "...            ...           ...              ...         ...  \n",
              "9564        $15.59        249.44          2021-06       June   \n",
              "9565       $749.99        749.99          2021-06       June   \n",
              "9566       $329.99        329.99          2021-05        May   \n",
              "9567        $15.59         31.18          2021-04      April   \n",
              "9568        $15.59         77.95          2021-03      March   \n",
              "\n",
              "[9569 rows x 18 columns]>"
            ]
          },
          "metadata": {},
          "execution_count": 18
        }
      ]
    },
    {
      "cell_type": "code",
      "source": [
        "\n",
        "df.dropna(inplace=True)"
      ],
      "metadata": {
        "id": "Ki4RSnndRiWt"
      },
      "execution_count": 19,
      "outputs": []
    },
    {
      "cell_type": "code",
      "source": [
        "\n",
        "print(df.columns)"
      ],
      "metadata": {
        "colab": {
          "base_uri": "https://localhost:8080/"
        },
        "id": "DWw30WCfRirC",
        "outputId": "dc0e8a0a-e7f4-4a6c-d2d6-4b11d53e1535"
      },
      "execution_count": 20,
      "outputs": [
        {
          "output_type": "stream",
          "name": "stdout",
          "text": [
            "Index(['customer_id', 'customer_name', 'address_line_1', 'city',\n",
            "       'state_province', 'postal_code', 'order_id', 'order_date',\n",
            "       'customer_id.1', 'order_id.1', 'product_id', 'quantity', 'product_id.1',\n",
            "       'product_name', 'product_price', 'total_amount', 'order_year_month',\n",
            "       'order_month'],\n",
            "      dtype='object')\n"
          ]
        }
      ]
    },
    {
      "cell_type": "code",
      "source": [
        "\n",
        "print(df.head())"
      ],
      "metadata": {
        "colab": {
          "base_uri": "https://localhost:8080/"
        },
        "id": "A5wuf2OZRmuB",
        "outputId": "3cb948a6-71be-4f55-8e30-34c51e40fae0"
      },
      "execution_count": 21,
      "outputs": [
        {
          "output_type": "stream",
          "name": "stdout",
          "text": [
            "   customer_id      customer_name        address_line_1        city  \\\n",
            "0           67      Gordy Matteau   59 Northland Circle  Wilmington   \n",
            "1          201     Cort Paskerful       769 Buell Drive  Huntsville   \n",
            "2           45    Willetta Lumley     41 Ridgeway Alley      Irvine   \n",
            "3          106   Alison Batterton         489 Erie Hill    Richmond   \n",
            "4          357  Martelle Paxeford  451 Manitowish Place    Richmond   \n",
            "\n",
            "  state_province  postal_code  order_id  order_date  customer_id.1  \\\n",
            "0            DE       19805.0      1001  2020-01-11             67   \n",
            "1            AL       35810.0      1002  2019-11-22            201   \n",
            "2            CA       92612.0      1003  2019-09-17             45   \n",
            "3            VA       23293.0      1004  2019-12-09            106   \n",
            "4            VA       23293.0      1005  2019-06-08            357   \n",
            "\n",
            "   order_id.1  product_id  quantity  product_id.1       product_name  \\\n",
            "0        1001         106       3.0           106  Great value Juice   \n",
            "1        1002         104       2.0           104               Desk   \n",
            "2        1003         107       5.0           107     Dove deodorant   \n",
            "3        1004         106       8.0           106  Great value Juice   \n",
            "4        1005         107       7.0           107     Dove deodorant   \n",
            "\n",
            "  product_price  total_amount order_year_month order_month  \n",
            "0         $1.99          5.97          2020-01    January   \n",
            "1        $85.98        171.96          2019-11   November   \n",
            "2         $3.99         19.95          2019-09   September  \n",
            "3         $1.99         15.92          2019-12   December   \n",
            "4         $3.99         27.93          2019-06       June   \n"
          ]
        }
      ]
    },
    {
      "cell_type": "markdown",
      "metadata": {
        "id": "Kf5r7-jeRYUk"
      },
      "source": [
        "## Summarize Data\n",
        "\n",
        "➡️ Assignment Tasks\n",
        "- Display the average price per month\n",
        "- Display the total revenue for all months"
      ]
    },
    {
      "cell_type": "code",
      "execution_count": 26,
      "metadata": {
        "vscode": {
          "languageId": "plaintext"
        },
        "colab": {
          "base_uri": "https://localhost:8080/"
        },
        "id": "A0nuya7RRYUm",
        "outputId": "44ed13a1-07e1-4d35-d711-6e8b198d6cc7"
      },
      "outputs": [
        {
          "output_type": "stream",
          "name": "stdout",
          "text": [
            "Average Price Per Month:\n",
            "order_month\n",
            "April        363.233926\n",
            "August       347.778375\n",
            "December     335.550346\n",
            "February     328.088301\n",
            "January      313.685241\n",
            "July         320.420303\n",
            "June         365.251496\n",
            "March        338.906864\n",
            "May          345.836679\n",
            "November     330.779264\n",
            "October      381.696658\n",
            "September    350.678750\n",
            "Name: total_amount, dtype: float64\n"
          ]
        }
      ],
      "source": [
        "\n",
        "# Average price\n",
        "grouped = df.groupby('order_month')\n",
        "average_price_per_month = grouped['total_amount'].mean()\n",
        "print(\"Average Price Per Month:\")\n",
        "print(average_price_per_month)"
      ]
    },
    {
      "cell_type": "code",
      "execution_count": 27,
      "metadata": {
        "vscode": {
          "languageId": "plaintext"
        },
        "colab": {
          "base_uri": "https://localhost:8080/"
        },
        "id": "OrOArNw8RYUo",
        "outputId": "645cf32f-7180-4bc6-e0c3-eea52a81acc1"
      },
      "outputs": [
        {
          "output_type": "stream",
          "name": "stdout",
          "text": [
            "\n",
            "Total Revenue Per Month:\n",
            "order_month\n",
            "April        296035.65\n",
            "August       280309.37\n",
            "December     252333.86\n",
            "February     200790.04\n",
            "January      221461.78\n",
            "July         243199.01\n",
            "June         288183.43\n",
            "March        246385.29\n",
            "May          286352.77\n",
            "November     251723.02\n",
            "October      278638.56\n",
            "September    244072.41\n",
            "Name: total_amount, dtype: float64\n"
          ]
        }
      ],
      "source": [
        "total_revenue_per_month = grouped['total_amount'].sum()\n",
        "print(\"\\nTotal Revenue Per Month:\")\n",
        "print(total_revenue_per_month)"
      ]
    }
  ],
  "metadata": {
    "language_info": {
      "name": "python"
    },
    "colab": {
      "provenance": []
    },
    "kernelspec": {
      "name": "python3",
      "display_name": "Python 3"
    }
  },
  "nbformat": 4,
  "nbformat_minor": 0
}