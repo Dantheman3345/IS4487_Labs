{
  "cells": [
    {
      "cell_type": "markdown",
      "metadata": {
        "id": "view-in-github",
        "colab_type": "text"
      },
      "source": [
        "<a href=\"https://colab.research.google.com/github/Dantheman3345/IS4487_Labs/blob/main/Copy_of_lab14_megatelco_reviews.ipynb\" target=\"_parent\"><img src=\"https://colab.research.google.com/assets/colab-badge.svg\" alt=\"Open In Colab\"/></a>"
      ]
    },
    {
      "cell_type": "markdown",
      "metadata": {
        "id": "gsE58ctCNFm_"
      },
      "source": [
        "# IS 4487 Lab 14\n",
        "\n",
        "## Outline\n",
        "\n",
        "1. Import customer reviews\n",
        "2. Create prompts for LLM (ChatGPT)\n",
        "3. Summarize Customer Reviews\n",
        "\n",
        "*Important note:*\n",
        "You will use the API key from the Canvas assignment for your work, but you must NOT save it in your public GitHub repository.  It will quickly be found and used, draining my budget!\n",
        "\n",
        "<a href=\"https://colab.research.google.com/github/Stan-Pugsley/is_4487_base/blob/main/Labs/Scripts/lab14_megatelco_reviews.ipynb\" target=\"_parent\"><img src=\"https://colab.research.google.com/assets/colab-badge.svg\" alt=\"Open In Colab\"/></a>\n"
      ]
    },
    {
      "cell_type": "markdown",
      "metadata": {
        "id": "wtEiq3XHmlVj"
      },
      "source": [
        "## Install and Load Libraries"
      ]
    },
    {
      "cell_type": "code",
      "execution_count": 1,
      "metadata": {
        "id": "mUapi621OqPA",
        "colab": {
          "base_uri": "https://localhost:8080/"
        },
        "outputId": "57017910-eca1-4365-8016-80157db53523"
      },
      "outputs": [
        {
          "output_type": "stream",
          "name": "stdout",
          "text": [
            "Collecting openai\n",
            "  Downloading openai-1.14.3-py3-none-any.whl (262 kB)\n",
            "\u001b[?25l     \u001b[90m━━━━━━━━━━━━━━━━━━━━━━━━━━━━━━━━━━━━━━━━\u001b[0m \u001b[32m0.0/262.9 kB\u001b[0m \u001b[31m?\u001b[0m eta \u001b[36m-:--:--\u001b[0m\r\u001b[2K     \u001b[91m━━━━\u001b[0m\u001b[91m╸\u001b[0m\u001b[90m━━━━━━━━━━━━━━━━━━━━━━━━━━━━━━━━━━━\u001b[0m \u001b[32m30.7/262.9 kB\u001b[0m \u001b[31m1.2 MB/s\u001b[0m eta \u001b[36m0:00:01\u001b[0m\r\u001b[2K     \u001b[91m━━━━━━━━━━━━━━━━━━\u001b[0m\u001b[91m╸\u001b[0m\u001b[90m━━━━━━━━━━━━━━━━━━━━━\u001b[0m \u001b[32m122.9/262.9 kB\u001b[0m \u001b[31m2.0 MB/s\u001b[0m eta \u001b[36m0:00:01\u001b[0m\r\u001b[2K     \u001b[91m━━━━━━━━━━━━━━━━━━━━━━━━━━━━━━━━━━━━━━\u001b[0m\u001b[91m╸\u001b[0m\u001b[90m━\u001b[0m \u001b[32m256.0/262.9 kB\u001b[0m \u001b[31m3.1 MB/s\u001b[0m eta \u001b[36m0:00:01\u001b[0m\r\u001b[2K     \u001b[90m━━━━━━━━━━━━━━━━━━━━━━━━━━━━━━━━━━━━━━━━\u001b[0m \u001b[32m262.9/262.9 kB\u001b[0m \u001b[31m2.4 MB/s\u001b[0m eta \u001b[36m0:00:00\u001b[0m\n",
            "\u001b[?25hRequirement already satisfied: anyio<5,>=3.5.0 in /usr/local/lib/python3.10/dist-packages (from openai) (3.7.1)\n",
            "Requirement already satisfied: distro<2,>=1.7.0 in /usr/lib/python3/dist-packages (from openai) (1.7.0)\n",
            "Collecting httpx<1,>=0.23.0 (from openai)\n",
            "  Downloading httpx-0.27.0-py3-none-any.whl (75 kB)\n",
            "\u001b[2K     \u001b[90m━━━━━━━━━━━━━━━━━━━━━━━━━━━━━━━━━━━━━━━━\u001b[0m \u001b[32m75.6/75.6 kB\u001b[0m \u001b[31m3.3 MB/s\u001b[0m eta \u001b[36m0:00:00\u001b[0m\n",
            "\u001b[?25hRequirement already satisfied: pydantic<3,>=1.9.0 in /usr/local/lib/python3.10/dist-packages (from openai) (2.6.4)\n",
            "Requirement already satisfied: sniffio in /usr/local/lib/python3.10/dist-packages (from openai) (1.3.1)\n",
            "Requirement already satisfied: tqdm>4 in /usr/local/lib/python3.10/dist-packages (from openai) (4.66.2)\n",
            "Requirement already satisfied: typing-extensions<5,>=4.7 in /usr/local/lib/python3.10/dist-packages (from openai) (4.10.0)\n",
            "Requirement already satisfied: idna>=2.8 in /usr/local/lib/python3.10/dist-packages (from anyio<5,>=3.5.0->openai) (3.6)\n",
            "Requirement already satisfied: exceptiongroup in /usr/local/lib/python3.10/dist-packages (from anyio<5,>=3.5.0->openai) (1.2.0)\n",
            "Requirement already satisfied: certifi in /usr/local/lib/python3.10/dist-packages (from httpx<1,>=0.23.0->openai) (2024.2.2)\n",
            "Collecting httpcore==1.* (from httpx<1,>=0.23.0->openai)\n",
            "  Downloading httpcore-1.0.4-py3-none-any.whl (77 kB)\n",
            "\u001b[2K     \u001b[90m━━━━━━━━━━━━━━━━━━━━━━━━━━━━━━━━━━━━━━━━\u001b[0m \u001b[32m77.8/77.8 kB\u001b[0m \u001b[31m6.4 MB/s\u001b[0m eta \u001b[36m0:00:00\u001b[0m\n",
            "\u001b[?25hCollecting h11<0.15,>=0.13 (from httpcore==1.*->httpx<1,>=0.23.0->openai)\n",
            "  Downloading h11-0.14.0-py3-none-any.whl (58 kB)\n",
            "\u001b[2K     \u001b[90m━━━━━━━━━━━━━━━━━━━━━━━━━━━━━━━━━━━━━━━━\u001b[0m \u001b[32m58.3/58.3 kB\u001b[0m \u001b[31m6.0 MB/s\u001b[0m eta \u001b[36m0:00:00\u001b[0m\n",
            "\u001b[?25hRequirement already satisfied: annotated-types>=0.4.0 in /usr/local/lib/python3.10/dist-packages (from pydantic<3,>=1.9.0->openai) (0.6.0)\n",
            "Requirement already satisfied: pydantic-core==2.16.3 in /usr/local/lib/python3.10/dist-packages (from pydantic<3,>=1.9.0->openai) (2.16.3)\n",
            "Installing collected packages: h11, httpcore, httpx, openai\n",
            "Successfully installed h11-0.14.0 httpcore-1.0.4 httpx-0.27.0 openai-1.14.3\n"
          ]
        }
      ],
      "source": [
        "pip install openai"
      ]
    },
    {
      "cell_type": "code",
      "execution_count": 2,
      "metadata": {
        "id": "QfiSLm4kMTmm",
        "colab": {
          "base_uri": "https://localhost:8080/"
        },
        "outputId": "3cd6bca8-90f1-4c84-8c61-9aacb85b79e0"
      },
      "outputs": [
        {
          "output_type": "stream",
          "name": "stdout",
          "text": [
            "Collecting itables\n",
            "  Downloading itables-2.0.0-py3-none-any.whl (215 kB)\n",
            "\u001b[2K     \u001b[90m━━━━━━━━━━━━━━━━━━━━━━━━━━━━━━━━━━━━━━━━\u001b[0m \u001b[32m215.6/215.6 kB\u001b[0m \u001b[31m2.4 MB/s\u001b[0m eta \u001b[36m0:00:00\u001b[0m\n",
            "\u001b[?25hRequirement already satisfied: ipython in /usr/local/lib/python3.10/dist-packages (from itables) (7.34.0)\n",
            "Requirement already satisfied: numpy in /usr/local/lib/python3.10/dist-packages (from itables) (1.25.2)\n",
            "Requirement already satisfied: pandas in /usr/local/lib/python3.10/dist-packages (from itables) (1.5.3)\n",
            "Requirement already satisfied: setuptools>=18.5 in /usr/local/lib/python3.10/dist-packages (from ipython->itables) (67.7.2)\n",
            "Collecting jedi>=0.16 (from ipython->itables)\n",
            "  Downloading jedi-0.19.1-py2.py3-none-any.whl (1.6 MB)\n",
            "\u001b[2K     \u001b[90m━━━━━━━━━━━━━━━━━━━━━━━━━━━━━━━━━━━━━━━━\u001b[0m \u001b[32m1.6/1.6 MB\u001b[0m \u001b[31m34.3 MB/s\u001b[0m eta \u001b[36m0:00:00\u001b[0m\n",
            "\u001b[?25hRequirement already satisfied: decorator in /usr/local/lib/python3.10/dist-packages (from ipython->itables) (4.4.2)\n",
            "Requirement already satisfied: pickleshare in /usr/local/lib/python3.10/dist-packages (from ipython->itables) (0.7.5)\n",
            "Requirement already satisfied: traitlets>=4.2 in /usr/local/lib/python3.10/dist-packages (from ipython->itables) (5.7.1)\n",
            "Requirement already satisfied: prompt-toolkit!=3.0.0,!=3.0.1,<3.1.0,>=2.0.0 in /usr/local/lib/python3.10/dist-packages (from ipython->itables) (3.0.43)\n",
            "Requirement already satisfied: pygments in /usr/local/lib/python3.10/dist-packages (from ipython->itables) (2.16.1)\n",
            "Requirement already satisfied: backcall in /usr/local/lib/python3.10/dist-packages (from ipython->itables) (0.2.0)\n",
            "Requirement already satisfied: matplotlib-inline in /usr/local/lib/python3.10/dist-packages (from ipython->itables) (0.1.6)\n",
            "Requirement already satisfied: pexpect>4.3 in /usr/local/lib/python3.10/dist-packages (from ipython->itables) (4.9.0)\n",
            "Requirement already satisfied: python-dateutil>=2.8.1 in /usr/local/lib/python3.10/dist-packages (from pandas->itables) (2.8.2)\n",
            "Requirement already satisfied: pytz>=2020.1 in /usr/local/lib/python3.10/dist-packages (from pandas->itables) (2023.4)\n",
            "Requirement already satisfied: parso<0.9.0,>=0.8.3 in /usr/local/lib/python3.10/dist-packages (from jedi>=0.16->ipython->itables) (0.8.3)\n",
            "Requirement already satisfied: ptyprocess>=0.5 in /usr/local/lib/python3.10/dist-packages (from pexpect>4.3->ipython->itables) (0.7.0)\n",
            "Requirement already satisfied: wcwidth in /usr/local/lib/python3.10/dist-packages (from prompt-toolkit!=3.0.0,!=3.0.1,<3.1.0,>=2.0.0->ipython->itables) (0.2.13)\n",
            "Requirement already satisfied: six>=1.5 in /usr/local/lib/python3.10/dist-packages (from python-dateutil>=2.8.1->pandas->itables) (1.16.0)\n",
            "Installing collected packages: jedi, itables\n",
            "Successfully installed itables-2.0.0 jedi-0.19.1\n"
          ]
        }
      ],
      "source": [
        "pip install itables"
      ]
    },
    {
      "cell_type": "code",
      "execution_count": 3,
      "metadata": {
        "id": "-BiHHJXsG1jC"
      },
      "outputs": [],
      "source": [
        "import os\n",
        "from openai import OpenAI\n",
        "import pandas as pd\n",
        "from itables import show"
      ]
    },
    {
      "cell_type": "markdown",
      "metadata": {
        "id": "DGEdvIi9mlVk"
      },
      "source": [
        "##Set the API Key Temporarily\n",
        "Remember to remove it before saving to GitHub"
      ]
    },
    {
      "cell_type": "code",
      "execution_count": 8,
      "metadata": {
        "id": "FQIQEoMLN1Bs"
      },
      "outputs": [],
      "source": [
        "\n",
        "client=OpenAI(\n",
        "    api_key = \"\"\n",
        ")"
      ]
    },
    {
      "cell_type": "markdown",
      "metadata": {
        "id": "mH9VbjTcmlVl"
      },
      "source": [
        "##Get Reviews"
      ]
    },
    {
      "cell_type": "code",
      "execution_count": 5,
      "metadata": {
        "id": "YVhlOg01LWq_",
        "colab": {
          "base_uri": "https://localhost:8080/",
          "height": 464
        },
        "outputId": "99551959-64aa-48ab-f330-c9dfbd31dbd9"
      },
      "outputs": [
        {
          "output_type": "display_data",
          "data": {
            "text/plain": [
              "<IPython.core.display.HTML object>"
            ],
            "text/html": [
              "<table id=\"itables_a0b826f5_c12b_4c91_a11a_f12c7e618eaa\" class=\"display nowrap\" data-quarto-disable-processing=\"true\" style=\"table-layout:auto;width:auto;margin:auto;caption-side:bottom\">\n",
              "<thead>\n",
              "    <tr style=\"text-align: right;\">\n",
              "      \n",
              "      <th>Date</th>\n",
              "      <th>Stars</th>\n",
              "      <th>Review</th>\n",
              "    </tr>\n",
              "  </thead><tbody><tr><td>Loading... (need <a href=https://mwouts.github.io/itables/troubleshooting.html>help</a>?)</td></tr></tbody>\n",
              "\n",
              "</table>\n",
              "<link href=\"https://www.unpkg.com/dt_for_itables@2.0.1/dt_bundle.css\" rel=\"stylesheet\">\n",
              "<script type=\"module\">\n",
              "    import {DataTable, jQuery as $} from 'https://www.unpkg.com/dt_for_itables@2.0.1/dt_bundle.js';\n",
              "\n",
              "    document.querySelectorAll(\"#itables_a0b826f5_c12b_4c91_a11a_f12c7e618eaa:not(.dataTable)\").forEach(table => {\n",
              "        // Define the table data\n",
              "        const data = [[\"2023-12-01\", 4, \"I purchased a Megatelco phone last week, and I'm impressed with its sleek design and powerful performance. The camera quality is exceptional, and the battery life is commendable. Overall, a solid 4-star experience.\"], [\"2023-12-03\", 3, \"My Megatelco phone arrived promptly, but I've noticed some issues with the software. It tends to lag at times, affecting the user experience. Customer support was helpful, but I expected better performance. 3 stars.\"], [\"2023-12-05\", 5, \"Megatelco offers top-notch phones! I'm thrilled with the features and the smooth interface. The camera takes stunning photos, and the battery lasts all day. 5 stars without a doubt!\"], [\"2023-12-08\", 4, \"I've been using Megatelco phones for a while now, and they never disappoint. The latest model I purchased is no exception. Great performance, stylish design, and excellent customer service. 4 stars from a satisfied customer.\"], [\"2023-12-10\", 2, \"Regrettably, my experience with Megatelco was not as expected. The phone had constant connectivity issues, and the support team couldn't provide a solution. Disappointed and only giving it 2 stars.\"], [\"2023-12-12\", 5, \"Megatelco's latest phone exceeded my expectations! It's packed with innovative features, and the customer service team was quick to address a minor concern I had. Solid 5-star rating!\"], [\"2023-12-15\", 3, \"I had a mixed experience with Megatelco. The phone's performance is decent, but I encountered some software glitches. Customer support was responsive but couldn't entirely resolve the issue. 3 stars.\"], [\"2023-12-18\", 4, \"Megatelco phones are reliable and offer great value. The user-friendly interface, coupled with impressive features, makes them a top choice. I'm giving it 4 stars for its overall quality.\"], [\"2023-12-20\", 1, \"My Megatelco phone started malfunctioning within a week of purchase. The touch screen became unresponsive, and customer support was unable to provide a quick solution. Unfortunately, a 1-star rating.\"], [\"2023-12-22\", 5, \"I recently upgraded to the latest Megatelco phone, and it's fantastic! The speed, camera quality, and battery life are exceptional. The sleek design is a bonus. Easy 5 stars!\"]];\n",
              "\n",
              "        // Define the dt_args\n",
              "        let dt_args = {\"layout\": {\"topStart\": null, \"topEnd\": null, \"bottomStart\": null, \"bottomEnd\": null}, \"order\": [], \"warn_on_dom\": true};\n",
              "        dt_args[\"data\"] = data;\n",
              "\n",
              "        \n",
              "        new DataTable(table, dt_args);\n",
              "    });\n",
              "</script>\n"
            ]
          },
          "metadata": {}
        },
        {
          "output_type": "stream",
          "name": "stdout",
          "text": [
            "0    I purchased a Megatelco phone last week, and I...\n",
            "Name: Review, dtype: object\n"
          ]
        }
      ],
      "source": [
        "reviews_data = {\n",
        "    'Date': ['2023-12-01', '2023-12-03', '2023-12-05', '2023-12-08', '2023-12-10', '2023-12-12', '2023-12-15', '2023-12-18', '2023-12-20', '2023-12-22'],\n",
        "    'Stars': [4, 3, 5, 4, 2, 5, 3, 4, 1, 5],\n",
        "    'Review': [\n",
        "        \"I purchased a Megatelco phone last week, and I'm impressed with its sleek design and powerful performance. The camera quality is exceptional, and the battery life is commendable. Overall, a solid 4-star experience.\",\n",
        "        \"My Megatelco phone arrived promptly, but I've noticed some issues with the software. It tends to lag at times, affecting the user experience. Customer support was helpful, but I expected better performance. 3 stars.\",\n",
        "        \"Megatelco offers top-notch phones! I'm thrilled with the features and the smooth interface. The camera takes stunning photos, and the battery lasts all day. 5 stars without a doubt!\",\n",
        "        \"I've been using Megatelco phones for a while now, and they never disappoint. The latest model I purchased is no exception. Great performance, stylish design, and excellent customer service. 4 stars from a satisfied customer.\",\n",
        "        \"Regrettably, my experience with Megatelco was not as expected. The phone had constant connectivity issues, and the support team couldn't provide a solution. Disappointed and only giving it 2 stars.\",\n",
        "        \"Megatelco's latest phone exceeded my expectations! It's packed with innovative features, and the customer service team was quick to address a minor concern I had. Solid 5-star rating!\",\n",
        "        \"I had a mixed experience with Megatelco. The phone's performance is decent, but I encountered some software glitches. Customer support was responsive but couldn't entirely resolve the issue. 3 stars.\",\n",
        "        \"Megatelco phones are reliable and offer great value. The user-friendly interface, coupled with impressive features, makes them a top choice. I'm giving it 4 stars for its overall quality.\",\n",
        "        \"My Megatelco phone started malfunctioning within a week of purchase. The touch screen became unresponsive, and customer support was unable to provide a quick solution. Unfortunately, a 1-star rating.\",\n",
        "        \"I recently upgraded to the latest Megatelco phone, and it's fantastic! The speed, camera quality, and battery life are exceptional. The sleek design is a bonus. Easy 5 stars!\"\n",
        "    ]\n",
        "}\n",
        "\n",
        "# Creating the DataFrame\n",
        "df = pd.DataFrame(reviews_data)\n",
        "show(df)\n",
        "print(df['Review'].iloc[:1])"
      ]
    },
    {
      "cell_type": "markdown",
      "metadata": {
        "id": "zZsr5ppdmlVl"
      },
      "source": [
        "##Create Prompts and Send to Model"
      ]
    },
    {
      "cell_type": "code",
      "execution_count": 6,
      "metadata": {
        "id": "pSoFFl_FN4F6",
        "colab": {
          "base_uri": "https://localhost:8080/"
        },
        "outputId": "811c0cf2-1cf9-42a4-f8ac-eff1ddae2a0a"
      },
      "outputs": [
        {
          "output_type": "stream",
          "name": "stdout",
          "text": [
            "I purchased a Megatelco phone last week, and I'm impressed with its sleek design and powerful performance. The camera quality is exceptional, and the battery life is commendable. Overall, a solid 4-star experience.\n",
            "[{'role': 'system', 'content': 'Summarize the sentiment and most important points in the following user review for a phone company named Megatelco.  Format the output in a table.'}, {'role': 'user', 'content': \"I purchased a Megatelco phone last week, and I'm impressed with its sleek design and powerful performance. The camera quality is exceptional, and the battery life is commendable. Overall, a solid 4-star experience.\"}]\n"
          ]
        }
      ],
      "source": [
        "review = df['Review'].values[0]\n",
        "print(review)\n",
        "messages = [{\"role\":\"system\",\"content\":\"Summarize the sentiment and most important points in the following user review for a phone company named Megatelco.  Format the output in a table.\"}]\n",
        "messages.append({\"role\":\"user\", \"content\":review})\n",
        "print(messages)"
      ]
    },
    {
      "cell_type": "code",
      "execution_count": 10,
      "metadata": {
        "id": "BE2F-S7TO9Cz"
      },
      "outputs": [],
      "source": [
        "response = client.chat.completions.create(\n",
        "    model=\"gpt-3.5-turbo\",\n",
        "    messages = messages,\n",
        "    max_tokens = 250\n",
        ")"
      ]
    },
    {
      "cell_type": "markdown",
      "metadata": {
        "id": "slRYfohTmlVl"
      },
      "source": [
        "## Display Response"
      ]
    },
    {
      "cell_type": "code",
      "execution_count": 11,
      "metadata": {
        "id": "hwIQ9nHwPXwZ",
        "colab": {
          "base_uri": "https://localhost:8080/"
        },
        "outputId": "de9aa0d4-1f7e-4414-bc72-0fe80a2194fe"
      },
      "outputs": [
        {
          "output_type": "stream",
          "name": "stdout",
          "text": [
            "| Sentiment   | Positive                        |\n",
            "|-------------|---------------------------------|\n",
            "| Points      | - Impressed with sleek design and powerful performance.  - Camera quality is exceptional.  - Battery life is commendable.  - Overall, a solid 4-star experience. |  \n"
          ]
        }
      ],
      "source": [
        "print(response.choices[0].message.content)"
      ]
    },
    {
      "cell_type": "markdown",
      "metadata": {
        "id": "VdZPHzEgmlVm"
      },
      "source": [
        "## Create a Loop to Submit Reviews\n",
        "\n",
        "➡️ Assignment Tasks\n",
        "- Create a FOR loop to iterate through reviews\n",
        "- Collect the responses in a single dataframe"
      ]
    },
    {
      "cell_type": "code",
      "source": [
        "import pandas as pd\n",
        "import os\n",
        "from openai import OpenAI\n",
        "\n",
        "# Initialize the OpenAI client with your API key\n",
        "client = OpenAI(\n",
        "    api_key=\"\"  # Replace with your actual API key\n",
        ")\n",
        "\n",
        "# Corrected reviews data with matching list lengths\n",
        "reviews_data = {\n",
        "    'Date': ['2023-12-01', '2023-12-03', '2023-12-05', '2023-12-08', '2023-12-10', '2023-12-12', '2023-12-15', '2023-12-18', '2023-12-20', '2023-12-22'],\n",
        "    'Stars': [4, 3, 5, 4, 2, 5, 3, 4, 1, 5],\n",
        "    'Review': [\n",
        "        \"I purchased a Megatelco phone last week, and I'm impressed with its sleek design and powerful performance. The camera quality is exceptional, and the battery life is commendable. Overall, a solid 4-star experience.\",\n",
        "        \"My Megatelco phone arrived promptly, but I've noticed some issues with the software. It tends to lag at times, affecting the user experience. Customer support was helpful, but I expected better performance. 3 stars.\",\n",
        "        \"Megatelco offers top-notch phones! I'm thrilled with the features and the smooth interface. The camera takes stunning photos, and the battery lasts all day. 5 stars without a doubt!\",\n",
        "        \"I've been using Megatelco phones for a while now, and they never disappoint. The latest model I purchased is no exception. Great performance, stylish design, and excellent customer service. 4 stars from a satisfied customer.\",\n",
        "        \"Regrettably, my experience with Megatelco was not as expected. The phone had constant connectivity issues, and the support team couldn't provide a solution. Disappointed and only giving it 2 stars.\",\n",
        "        \"Megatelco's latest phone exceeded my expectations! It's packed with innovative features, and the customer service team was quick to address a minor concern I had. Solid 5-star rating!\",\n",
        "        \"I had a mixed experience with Megatelco. The phone's performance is decent, but I encountered some software glitches. Customer support was responsive but couldn't entirely resolve the issue. 3 stars.\",\n",
        "        \"Megatelco phones are reliable and offer great value. The user-friendly interface, coupled with impressive features, makes them a top choice. I'm giving it 4 stars for its overall quality.\",\n",
        "        \"My Megatelco phone started malfunctioning within a week of purchase. The touch screen became unresponsive, and customer support was unable to provide a quick solution. Unfortunately, a 1-star rating.\",\n",
        "        \"I recently upgraded to the latest Megatelco phone, and it's fantastic! The speed, camera quality, and battery life are exceptional. The sleek design is a bonus. Easy 5 stars!\"\n",
        "    ]\n",
        "}\n",
        "df = pd.DataFrame(reviews_data)\n",
        "\n",
        "# Proceed with the rest of your code here\n",
        "\n",
        "# Initialize an empty DataFrame to store API responses\n",
        "response_df = pd.DataFrame(columns=['Review', 'API Response'])\n",
        "\n",
        "# Loop through each review, send it to the API, and collect the response\n",
        "for review in df['Review']:\n",
        "    messages = [\n",
        "        {\"role\": \"system\", \"content\": \"Summarize the sentiment and most important points in the following user review for a phone company named Megatelco. Format the output in a table.\"},\n",
        "        {\"role\": \"user\", \"content\": review}\n",
        "    ]\n",
        "\n",
        "    response = client.chat.completions.create(\n",
        "        model=\"gpt-3.5-turbo\",\n",
        "        messages=messages,\n",
        "        max_tokens=250\n",
        "    )\n",
        "\n",
        "    # Assuming the API returns a string response, adjust as necessary\n",
        "    api_response = response.choices[0].message.content\n",
        "\n",
        "    # Append the review and its API response to the response DataFrame\n",
        "    response_df = response_df.append({'Review': review, 'API Response': api_response}, ignore_index=True)\n",
        "\n",
        "# Display the DataFrame with the reviews and their API responses\n",
        "print(response_df)\n"
      ],
      "metadata": {
        "colab": {
          "base_uri": "https://localhost:8080/"
        },
        "id": "ZoK50MBNn8Q2",
        "outputId": "c1a367ca-5642-4d4a-ef55-4406cf6323f4"
      },
      "execution_count": 17,
      "outputs": [
        {
          "output_type": "stream",
          "name": "stderr",
          "text": [
            "<ipython-input-17-c642999ec622>:51: FutureWarning: The frame.append method is deprecated and will be removed from pandas in a future version. Use pandas.concat instead.\n",
            "  response_df = response_df.append({'Review': review, 'API Response': api_response}, ignore_index=True)\n",
            "<ipython-input-17-c642999ec622>:51: FutureWarning: The frame.append method is deprecated and will be removed from pandas in a future version. Use pandas.concat instead.\n",
            "  response_df = response_df.append({'Review': review, 'API Response': api_response}, ignore_index=True)\n",
            "<ipython-input-17-c642999ec622>:51: FutureWarning: The frame.append method is deprecated and will be removed from pandas in a future version. Use pandas.concat instead.\n",
            "  response_df = response_df.append({'Review': review, 'API Response': api_response}, ignore_index=True)\n",
            "<ipython-input-17-c642999ec622>:51: FutureWarning: The frame.append method is deprecated and will be removed from pandas in a future version. Use pandas.concat instead.\n",
            "  response_df = response_df.append({'Review': review, 'API Response': api_response}, ignore_index=True)\n",
            "<ipython-input-17-c642999ec622>:51: FutureWarning: The frame.append method is deprecated and will be removed from pandas in a future version. Use pandas.concat instead.\n",
            "  response_df = response_df.append({'Review': review, 'API Response': api_response}, ignore_index=True)\n",
            "<ipython-input-17-c642999ec622>:51: FutureWarning: The frame.append method is deprecated and will be removed from pandas in a future version. Use pandas.concat instead.\n",
            "  response_df = response_df.append({'Review': review, 'API Response': api_response}, ignore_index=True)\n",
            "<ipython-input-17-c642999ec622>:51: FutureWarning: The frame.append method is deprecated and will be removed from pandas in a future version. Use pandas.concat instead.\n",
            "  response_df = response_df.append({'Review': review, 'API Response': api_response}, ignore_index=True)\n",
            "<ipython-input-17-c642999ec622>:51: FutureWarning: The frame.append method is deprecated and will be removed from pandas in a future version. Use pandas.concat instead.\n",
            "  response_df = response_df.append({'Review': review, 'API Response': api_response}, ignore_index=True)\n",
            "<ipython-input-17-c642999ec622>:51: FutureWarning: The frame.append method is deprecated and will be removed from pandas in a future version. Use pandas.concat instead.\n",
            "  response_df = response_df.append({'Review': review, 'API Response': api_response}, ignore_index=True)\n"
          ]
        },
        {
          "output_type": "stream",
          "name": "stdout",
          "text": [
            "                                              Review  \\\n",
            "0  I purchased a Megatelco phone last week, and I...   \n",
            "1  My Megatelco phone arrived promptly, but I've ...   \n",
            "2  Megatelco offers top-notch phones! I'm thrille...   \n",
            "3  I've been using Megatelco phones for a while n...   \n",
            "4  Regrettably, my experience with Megatelco was ...   \n",
            "5  Megatelco's latest phone exceeded my expectati...   \n",
            "6  I had a mixed experience with Megatelco. The p...   \n",
            "7  Megatelco phones are reliable and offer great ...   \n",
            "8  My Megatelco phone started malfunctioning with...   \n",
            "9  I recently upgraded to the latest Megatelco ph...   \n",
            "\n",
            "                                        API Response  \n",
            "0  | Sentiment  | Positive  |\\n| ------------- | ...  \n",
            "1  | Sentiment   |  Issues and Concerns          ...  \n",
            "2  | Sentiment | Positive |\\n|----------|--------...  \n",
            "3  | Sentiment   | Positive        |\\n|----------...  \n",
            "4  | Sentiment   | User Review Summary           ...  \n",
            "5  | Sentiment   |  Points                       ...  \n",
            "6  | Sentiment   | Points                        ...  \n",
            "7  | Sentiment   | Points                        ...  \n",
            "8  | Sentiment   | Negative  |\\n|-------------|--...  \n",
            "9  | Sentiment   | Positive   |\\n|-------------|-...  \n"
          ]
        },
        {
          "output_type": "stream",
          "name": "stderr",
          "text": [
            "<ipython-input-17-c642999ec622>:51: FutureWarning: The frame.append method is deprecated and will be removed from pandas in a future version. Use pandas.concat instead.\n",
            "  response_df = response_df.append({'Review': review, 'API Response': api_response}, ignore_index=True)\n"
          ]
        }
      ]
    },
    {
      "cell_type": "markdown",
      "metadata": {
        "id": "3yo4a0xymlVm"
      },
      "source": [
        "## Summarize the Responses\n",
        "\n",
        "➡️ Assignment Tasks\n",
        "- Create at least two visualizations to show the most important themes and sentinment of the reviews"
      ]
    },
    {
      "cell_type": "code",
      "execution_count": 18,
      "metadata": {
        "id": "gHIGAbYrmlVm",
        "colab": {
          "base_uri": "https://localhost:8080/",
          "height": 1000
        },
        "outputId": "f81f85c0-bc2a-4b7f-ee39-bfa56c3c3269"
      },
      "outputs": [
        {
          "output_type": "display_data",
          "data": {
            "text/plain": [
              "<Figure size 1000x600 with 1 Axes>"
            ],
            "image/png": "[encoded data removed]"
          },
          "metadata": {}
        },
        {
          "output_type": "display_data",
          "data": {
            "text/plain": [
              "<Figure size 1000x800 with 1 Axes>"
            ],
            "image/png": "[encoded data removed]"
          },
          "metadata": {}
        }
      ],
      "source": [
        "#themes\n",
        "import matplotlib.pyplot as plt\n",
        "import seaborn as sns\n",
        "import pandas as pd\n",
        "\n",
        "# Sample DataFrame setup (replace this with your actual DataFrame)\n",
        "data = {\n",
        "    'Sentiment': ['Positive', 'Positive', 'Negative', 'Neutral', 'Positive', 'Negative'],\n",
        "    'Themes': ['Performance', 'Customer Service', 'Design', 'Performance', 'Design', 'Customer Service']\n",
        "}\n",
        "df = pd.DataFrame(data)\n",
        "\n",
        "# Visualization 1: Sentiment Distribution\n",
        "plt.figure(figsize=(10, 6))\n",
        "sns.countplot(x='Sentiment', data=df, order = df['Sentiment'].value_counts().index)\n",
        "plt.title('Sentiment Distribution in Reviews')\n",
        "plt.xlabel('Sentiment')\n",
        "plt.ylabel('Number of Reviews')\n",
        "plt.show()\n",
        "\n",
        "# Preparing data for Visualization 2\n",
        "theme_counts = df['Themes'].value_counts()\n",
        "\n",
        "# Visualization 2: Theme Frequencies\n",
        "plt.figure(figsize=(10, 8))\n",
        "plt.pie(theme_counts, labels = theme_counts.index, autopct='%1.1f%%', startangle=140)\n",
        "plt.title('Common Themes in Reviews')\n",
        "plt.axis('equal')  # Equal aspect ratio ensures that pie is drawn as a circle.\n",
        "plt.show()\n"
      ]
    },
    {
      "cell_type": "code",
      "execution_count": 14,
      "metadata": {
        "id": "ikavavRAmlVm"
      },
      "outputs": [],
      "source": [
        "#sentiment frequency"
      ]
    }
  ],
  "metadata": {
    "colab": {
      "provenance": [],
      "include_colab_link": true
    },
    "kernelspec": {
      "display_name": "Python 3",
      "name": "python3"
    },
    "language_info": {
      "name": "python"
    }
  },
  "nbformat": 4,
  "nbformat_minor": 0
}